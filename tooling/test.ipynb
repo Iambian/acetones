{
 "cells": [
  {
   "cell_type": "code",
   "execution_count": 1,
   "metadata": {},
   "outputs": [
    {
     "name": "stdout",
     "output_type": "stream",
     "text": [
      "['', 'zpg,X', 'ind', 'abs', 'abs,X', 'X,ind', 'A', 'zpg', 'rel', '#', 'impl', 'ind,Y', 'abs,Y', 'zpg,Y']\n"
     ]
    }
   ],
   "source": [
    "datalist = list()\n",
    "with open(\"inst6502_comp.txt\", \"r\") as f:\n",
    "    for line in f:\n",
    "        data = line.strip().split('\\t')\n",
    "        datalist.extend([i.split(\" \",1) for i in data])\n",
    "\n",
    "datatypes = list(set([i[1] for i in datalist]))\n",
    "print(datatypes)\n",
    "#print(len(datatypes))\n",
    "with open(\"../debug_itab.z80\", \"w\") as f:\n",
    "    f.write(\"inst6502_opcode_width_table:\\n\")\n",
    "    for idx, i in enumerate(datatypes):\n",
    "        size = 0\n",
    "        if i in (\"\", \"impl\", \"A\"):\n",
    "            size = 1\n",
    "        elif i in (\"zpg\", \"rel\", \"X,ind\", \"ind,Y\", \"#\", \"zpg,X\", \"zpg,Y\"):\n",
    "            size = 2\n",
    "        elif i in (\"abs\", \"abs,X\", \"abs,Y\", \"ind\"):\n",
    "            size = 3\n",
    "        pass\n",
    "        s = f\".db {size}    ;{idx}: {i}\\n\"\n",
    "        f.write(s)\n",
    "    f.write(\"\\n\\n;Note: 1=1byteOper, 2=2byteOper, -=1byteRelOper. Other chrs are literal\\n\")\n",
    "    f.write(\"\\ninst6502_disassembler:\\n\")\n",
    "    for idx, i in enumerate(datatypes):\n",
    "        if i == \"\":\n",
    "            s = \"\"\n",
    "        elif i == \"impl\":\n",
    "            s = \"\"\n",
    "        elif i == \"A\":\n",
    "            s = \"A\"\n",
    "        elif i == \"#\":\n",
    "            s = \"#1\"\n",
    "        elif i == \"zpg\":\n",
    "            s = \"1\"\n",
    "        elif i == \"rel\":\n",
    "            s = \"-\"\n",
    "        elif i == \"zpg,X\":\n",
    "            s = \"1,X\"\n",
    "        elif i == \"zpg,Y\":\n",
    "            s = \"1,Y\"\n",
    "        elif i == \"X,ind\":\n",
    "            s = \"(1,X)\"\n",
    "        elif i == \"ind,Y\":\n",
    "            s = \"(1),Y\"\n",
    "        elif i == \"ind\":\n",
    "            s = \"(2)\"\n",
    "        elif i == \"abs\":\n",
    "            s = \"2\"\n",
    "        elif i == \"abs,X\":\n",
    "            s = \"2,X\"\n",
    "        elif i == \"abs,Y\":\n",
    "            s = \"2,Y\"\n",
    "        size = len(s)+1\n",
    "        f.write(f'.db {size},\"{s}\"  ;\\n')\n",
    "        \n",
    "\n",
    "\n",
    "    f.write(\"\\ninst6502_disassembly_table:\\n\")\n",
    "    for idx, i in enumerate(datalist):\n",
    "        s = f'.db \"{i[0].strip()[:3]}\", {datatypes.index(i[1])}     ;0x{idx:02X}\\n'\n",
    "        f.write(s)\n",
    "\n",
    "\n",
    "\n"
   ]
  }
 ],
 "metadata": {
  "kernelspec": {
   "display_name": "Python 3",
   "language": "python",
   "name": "python3"
  },
  "language_info": {
   "codemirror_mode": {
    "name": "ipython",
    "version": 3
   },
   "file_extension": ".py",
   "mimetype": "text/x-python",
   "name": "python",
   "nbconvert_exporter": "python",
   "pygments_lexer": "ipython3",
   "version": "3.10.11"
  }
 },
 "nbformat": 4,
 "nbformat_minor": 2
}
