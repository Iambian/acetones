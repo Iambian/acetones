{
 "cells": [
  {
   "cell_type": "code",
   "execution_count": 2,
   "metadata": {},
   "outputs": [
    {
     "name": "stdout",
     "output_type": "stream",
     "text": [
      "['', 'zpg,X', 'ind', 'abs', 'abs,X', 'X,ind', 'A', 'zpg', 'rel', '#', 'impl', 'ind,Y', 'abs,Y', 'zpg,Y']\n"
     ]
    }
   ],
   "source": [
    "datalist = list()\n",
    "with open(\"inst6502_comp.txt\", \"r\") as f:\n",
    "    for line in f:\n",
    "        data = line.strip().split('\\t')\n",
    "        datalist.extend([i.split(\" \",1) for i in data])\n",
    "\n",
    "datatypes = list(set([i[1] for i in datalist]))\n",
    "print(datatypes)\n",
    "#print(len(datatypes))\n",
    "with open(\"../debug_itab.z80\", \"w\") as f:\n",
    "    f.write(\"inst6502_opcode_width_table:\\n\")\n",
    "    for idx, i in enumerate(datatypes):\n",
    "        size = 0\n",
    "        if i in (\"\", \"impl\", \"A\"):\n",
    "            size = 1\n",
    "        elif i in (\"zpg\", \"rel\", \"X,ind\", \"ind,Y\", \"#\", \"zpg,X\", \"zpg,Y\"):\n",
    "            size = 2\n",
    "        elif i in (\"abs\", \"abs,X\", \"abs,Y\", \"ind\"):\n",
    "            size = 3\n",
    "        pass\n",
    "        s = f\".db {size}    ;{idx}: {i}\\n\"\n",
    "        f.write(s)\n",
    "    f.write(\"\\n\\n;Note: 1=1byteOper, 2=2byteOper, -=1byteRelOper. Other chrs are literal\\n\")\n",
    "    f.write(\"\\ninst6502_disassembler:\\n\")\n",
    "    for idx, i in enumerate(datatypes):\n",
    "        if i == \"\":\n",
    "            s = \"\"\n",
    "        elif i == \"impl\":\n",
    "            s = \"\"\n",
    "        elif i == \"A\":\n",
    "            s = \"A\"\n",
    "        elif i == \"#\":\n",
    "            s = \"#1\"\n",
    "        elif i == \"zpg\":\n",
    "            s = \"1\"\n",
    "        elif i == \"rel\":\n",
    "            s = \"-\"\n",
    "        elif i == \"zpg,X\":\n",
    "            s = \"1,X\"\n",
    "        elif i == \"zpg,Y\":\n",
    "            s = \"1,Y\"\n",
    "        elif i == \"X,ind\":\n",
    "            s = \"(1,X)\"\n",
    "        elif i == \"ind,Y\":\n",
    "            s = \"(1),Y\"\n",
    "        elif i == \"ind\":\n",
    "            s = \"(2)\"\n",
    "        elif i == \"abs\":\n",
    "            s = \"2\"\n",
    "        elif i == \"abs,X\":\n",
    "            s = \"2,X\"\n",
    "        elif i == \"abs,Y\":\n",
    "            s = \"2,Y\"\n",
    "        size = len(s)+1\n",
    "        f.write(f'.db {size},\"{s}\"  ;\\n')\n",
    "        \n",
    "\n",
    "\n",
    "    f.write(\"\\ninst6502_disassembly_table:\\n\")\n",
    "    for idx, i in enumerate(datalist):\n",
    "        s = f'.db \"{i[0].strip()[:3]}\", {datatypes.index(i[1])}     ;0x{idx:02X}\\n'\n",
    "        f.write(s)\n",
    "\n",
    "\n",
    "\n"
   ]
  },
  {
   "cell_type": "code",
   "execution_count": 5,
   "metadata": {},
   "outputs": [
    {
     "name": "stdout",
     "output_type": "stream",
     "text": [
      "b'NES\\x1a\\x01\\x01\\x00\\x00\\x00\\x00\\x00\\x00\\x00\\x00\\x00'\n",
      "Is NES ROM\n",
      "PRG COUNT 1, CHR COUNT 1\n",
      "b'\\xf6}U\\xfdk<\\xf0\\xba\\xd1\\xcc\\x85\\xf1\\xdf\\rs\\x9c'\n"
     ]
    },
    {
     "ename": "FileExistsError",
     "evalue": "[WinError 183] Cannot create a file when that file already exists: 'nestest.8xv' -> '../bin/nestest.8xv'",
     "output_type": "error",
     "traceback": [
      "\u001b[1;31m---------------------------------------------------------------------------\u001b[0m",
      "\u001b[1;31mFileExistsError\u001b[0m                           Traceback (most recent call last)",
      "Cell \u001b[1;32mIn[5], line 41\u001b[0m\n\u001b[0;32m     39\u001b[0m convdata \u001b[38;5;241m=\u001b[39m tobytes([\u001b[38;5;124m\"\u001b[39m\u001b[38;5;124mCENROM\u001b[39m\u001b[38;5;124m\"\u001b[39m, \u001b[38;5;241m0\u001b[39m, filebase, hashdata, lo(datalen), hi(datalen), data])\n\u001b[0;32m     40\u001b[0m toolkit\u001b[38;5;241m.\u001b[39mexport8xv(filebase, convdata)\n\u001b[1;32m---> 41\u001b[0m \u001b[43mos\u001b[49m\u001b[38;5;241;43m.\u001b[39;49m\u001b[43mrename\u001b[49m\u001b[43m(\u001b[49m\u001b[38;5;124;43mf\u001b[39;49m\u001b[38;5;124;43m\"\u001b[39;49m\u001b[38;5;132;43;01m{\u001b[39;49;00m\u001b[43mfilebase\u001b[49m\u001b[38;5;132;43;01m}\u001b[39;49;00m\u001b[38;5;124;43m.8xv\u001b[39;49m\u001b[38;5;124;43m\"\u001b[39;49m\u001b[43m,\u001b[49m\u001b[38;5;124;43mf\u001b[39;49m\u001b[38;5;124;43m\"\u001b[39;49m\u001b[38;5;124;43m../bin/\u001b[39;49m\u001b[38;5;132;43;01m{\u001b[39;49;00m\u001b[43mfilebase\u001b[49m\u001b[38;5;132;43;01m}\u001b[39;49;00m\u001b[38;5;124;43m.8xv\u001b[39;49m\u001b[38;5;124;43m\"\u001b[39;49m\u001b[43m)\u001b[49m\n\u001b[0;32m     42\u001b[0m a \u001b[38;5;241m=\u001b[39m (data[\u001b[38;5;241m6\u001b[39m] \u001b[38;5;241m&\u001b[39m \u001b[38;5;241m0xF0\u001b[39m) \u001b[38;5;241m>>\u001b[39m \u001b[38;5;241m4\u001b[39m\n\u001b[0;32m     43\u001b[0m b \u001b[38;5;241m=\u001b[39m (data[\u001b[38;5;241m7\u001b[39m] \u001b[38;5;241m&\u001b[39m \u001b[38;5;241m0xF0\u001b[39m)\n",
      "\u001b[1;31mFileExistsError\u001b[0m: [WinError 183] Cannot create a file when that file already exists: 'nestest.8xv' -> '../bin/nestest.8xv'"
     ]
    }
   ],
   "source": [
    "import hashlib, os, importlib\n",
    "import toolkit\n",
    "importlib.reload(toolkit)\n",
    "\n",
    "def tobytes(indata:list):\n",
    "    outlist = list()\n",
    "    for dat in indata:\n",
    "        if isinstance(dat,str):\n",
    "            for s in dat:\n",
    "                outlist.append(ord(s))\n",
    "        elif isinstance(dat,(bytes, bytearray, list)):\n",
    "            for b in dat:\n",
    "                outlist.append(b)\n",
    "        else:\n",
    "            outlist.append(dat)\n",
    "    return bytes(outlist)\n",
    "\n",
    "\n",
    "filename = \"nestest.nes\"\n",
    "filebase = filename.split('.')[0]\n",
    "with open(\"nestest.nes\",\"rb\") as f:\n",
    "    data = bytes(f.read())\n",
    "\n",
    "print(data[:15])\n",
    "isrom = False\n",
    "def lo(num):\n",
    "    return num & 0xFF\n",
    "def hi(num):\n",
    "    return (num >> 8) & 0xFF\n",
    "if bytes(data[:4]) == bytes([ord('N'),ord('E'),ord('S'), 0x1A]):\n",
    "    print(\"Is NES ROM\")\n",
    "    isrom = True\n",
    "    prg_rom_count = int(data[4])\n",
    "    chr_rom_count = int(data[5])\n",
    "    print(f\"PRG COUNT {prg_rom_count}, CHR COUNT {chr_rom_count}\")\n",
    "    hashdata = hashlib.sha256(data).digest()[:16]\n",
    "    print(hashdata)\n",
    "    datalen = len(data)\n",
    "    convdata = tobytes([\"CENROM\", 0, filebase, hashdata, lo(datalen), hi(datalen), data])\n",
    "    toolkit.export8xv(filebase, convdata)\n",
    "    if os.path.exists(f\"../bin/{filebase}.8xv\"):\n",
    "        os.remove(f\"../bin/{filebase}.8xv\")\n",
    "    os.rename(f\"{filebase}.8xv\",f\"../bin/{filebase}.8xv\")\n",
    "    a = (data[6] & 0xF0) >> 4\n",
    "    b = (data[7] & 0xF0)\n",
    "    print(f\"Mapper ID: {a|b}\")\n",
    "\n",
    "\n",
    "\n",
    "if not isrom:\n",
    "    print(\"Failed an NES ROM check.\")\n",
    "\n",
    "\n"
   ]
  }
 ],
 "metadata": {
  "kernelspec": {
   "display_name": "Python 3",
   "language": "python",
   "name": "python3"
  },
  "language_info": {
   "codemirror_mode": {
    "name": "ipython",
    "version": 3
   },
   "file_extension": ".py",
   "mimetype": "text/x-python",
   "name": "python",
   "nbconvert_exporter": "python",
   "pygments_lexer": "ipython3",
   "version": "3.10.11"
  }
 },
 "nbformat": 4,
 "nbformat_minor": 2
}
